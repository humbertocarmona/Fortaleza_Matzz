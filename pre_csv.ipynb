{
 "cells": [
  {
   "cell_type": "code",
   "execution_count": 1,
   "metadata": {},
   "outputs": [],
   "source": [
    "import pandas as pd\n",
    "import numpy as np"
   ]
  },
  {
   "cell_type": "code",
   "execution_count": 6,
   "metadata": {},
   "outputs": [
    {
     "name": "stdout",
     "output_type": "stream",
     "text": [
      "Index(['post_id', 'user_id', 'text', 'dt', 'platform', 'likeCount',\n",
      "       'new_candidate', 'new_classification', 'count'],\n",
      "      dtype='object')\n"
     ]
    }
   ],
   "source": [
    "df = pd.read_csv('./data/Aprovação_20a.csv', parse_dates=True);\n",
    "print(df.columns)\n",
    "df['text'] = df['text'].str.replace('\\n',' ')\n",
    "df['text'] = df['text'].str.replace('“','')\n",
    "df['text'] = df['text'].str.replace('”','')\n",
    "df['text'] = df['text'].str.replace('\\\"','')\n",
    "\n",
    "# Select non-duplicated rows\n",
    "non_duplicated_rows = df[~df.duplicated('post_id', keep=False)]\n",
    "\n",
    "# Select the last occurrence of duplicated rows\n",
    "last_duplicated_rows = df[df.duplicated('post_id', keep='last')]\n",
    "\n",
    "# Combine the two DataFrames\n",
    "result_df = pd.concat([non_duplicated_rows, last_duplicated_rows])\n",
    "\n",
    "# Sort the result if necessary to maintain original order\n",
    "df = result_df.sort_index()\n",
    "df['count'] = df['count'].astype(int)\n",
    "\n",
    "compression_opts = dict(method='zip',\n",
    "                        archive_name='approval_20a.csv')\n",
    "result_df.to_csv('./data/approval_20a.zip', index=False, compression=compression_opts)"
   ]
  },
  {
   "cell_type": "code",
   "execution_count": 3,
   "metadata": {},
   "outputs": [],
   "source": [
    "# df.dt = pd.to_datetime(df.dt)\n",
    "# df =df[df.dt >=  pd.to_datetime('2024-08-15')]\n",
    "# df.new_candidate.unique()\n",
    "# candidate = ['Evandro Leitão', 'André Fernandes']\n",
    "# top5 = {}\n",
    "# for c in candidate[0:1]:\n",
    "    \n",
    "#     dfc = df[df['new_candidate'].isin([c])]\n",
    "#     dfc =  dfc.sort_values(by=['new_candidate','count', 'dt'], ascending=[False, False, False])\n",
    "#     top5[c] = dfc.iloc[0:5]\n",
    "\n",
    "#     # print(c)\n",
    "#     # print()\n",
    "\n",
    "#     # for index, row in top5[c].iterrows():\n",
    "#     #     print()\n",
    "#     #     print(row['count'],' likes ')\n",
    "#     #     print()\n",
    "#     #     print(row['text'])\n",
    "#     #     print('--------------------------------------------------------------')\n",
    "\n",
    "# top5\n"
   ]
  },
  {
   "cell_type": "code",
   "execution_count": null,
   "metadata": {},
   "outputs": [],
   "source": []
  }
 ],
 "metadata": {
  "kernelspec": {
   "display_name": "py312",
   "language": "python",
   "name": "python3"
  },
  "language_info": {
   "codemirror_mode": {
    "name": "ipython",
    "version": 3
   },
   "file_extension": ".py",
   "mimetype": "text/x-python",
   "name": "python",
   "nbconvert_exporter": "python",
   "pygments_lexer": "ipython3",
   "version": "3.12.4"
  }
 },
 "nbformat": 4,
 "nbformat_minor": 2
}
